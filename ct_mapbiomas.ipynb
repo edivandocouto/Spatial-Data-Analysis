{
  "nbformat": 4,
  "nbformat_minor": 0,
  "metadata": {
    "colab": {
      "provenance": [],
      "collapsed_sections": [],
      "authorship_tag": "ABX9TyNp09OUpx2JWuKJLpfb6RU2",
      "include_colab_link": true
    },
    "kernelspec": {
      "name": "python3",
      "display_name": "Python 3"
    },
    "language_info": {
      "name": "python"
    }
  },
  "cells": [
    {
      "cell_type": "markdown",
      "metadata": {
        "id": "view-in-github",
        "colab_type": "text"
      },
      "source": [
        "<a href=\"https://colab.research.google.com/github/edivandocouto/Spatial-Data-Analysis/blob/main/ct_mapbiomas.ipynb\" target=\"_parent\"><img src=\"https://colab.research.google.com/assets/colab-badge.svg\" alt=\"Open In Colab\"/></a>"
      ]
    },
    {
      "cell_type": "markdown",
      "source": [
        "\n",
        "## Mapbiomas Contigency Table Project\n",
        "We created this collab was designed to work with Mapbiomas data and prepare a detailed report on the intensity of land use in the Amazon River Basin at different scales of approaches;\n",
        "\n",
        "1 - Pan-Amazonian Basin;\n",
        "\n",
        "2- All countries in the basin: Peru, Colombia, Ecuador, Venezuela, and Bolivia;\n",
        "\n",
        "3 - Detail for the Brazilian territory;\n",
        "\n",
        "4 - Detailing for all Brazilian states: Acre, Amazonas, Roraima, Rondônia, Mato Grosso, Pará, and Amapá.\n",
        "\n",
        "\n",
        "---\n",
        "\n"
      ],
      "metadata": {
        "id": "URQXvQ0VylF9"
      }
    },
    {
      "cell_type": "markdown",
      "source": [
        "## 1. Libraries"
      ],
      "metadata": {
        "id": "xeWT1dYMsjVb"
      }
    },
    {
      "cell_type": "code",
      "execution_count": null,
      "metadata": {
        "id": "4g47TUZCsJXk"
      },
      "outputs": [],
      "source": [
        "import ee"
      ]
    },
    {
      "cell_type": "code",
      "source": [
        "# Trigger the authentication flow.\n",
        "ee.Authenticate()\n",
        "\n",
        "# Initialize the library.\n",
        "ee.Initialize()"
      ],
      "metadata": {
        "colab": {
          "base_uri": "https://localhost:8080/"
        },
        "id": "KytTZ8TXs4ea",
        "outputId": "b5e16a49-64d5-402a-b85a-94466a561b09"
      },
      "execution_count": null,
      "outputs": [
        {
          "output_type": "stream",
          "name": "stdout",
          "text": [
            "To authorize access needed by Earth Engine, open the following URL in a web browser and follow the instructions. If the web browser does not start automatically, please manually browse the URL below.\n",
            "\n",
            "    https://code.earthengine.google.com/client-auth?scopes=https%3A//www.googleapis.com/auth/earthengine%20https%3A//www.googleapis.com/auth/devstorage.full_control&request_id=mGLeIC3DG1gApx9-ZUUSiFoQ9KGA-Vxnf7oksDWX-1E&tc=BEkOMt0m9ViEmiPtvjuaiMhqoqEBcDBzBcZ514ucOY0&cc=csevVIKfcteEf2LOKrU7LUc2-2Ew_iNY2BqwvX59HOw\n",
            "\n",
            "The authorization workflow will generate a code, which you should paste in the box below.\n",
            "Enter verification code: 4/1ARtbsJq5K_299VpI8bBirn4nj0jbTt47DnFSvHBUpBSNwz7GS3CK2CzfSm4\n",
            "\n",
            "Successfully saved authorization token.\n"
          ]
        }
      ]
    },
    {
      "cell_type": "markdown",
      "source": [],
      "metadata": {
        "id": "qgoNWg7Psh-G"
      }
    },
    {
      "cell_type": "code",
      "source": [
        "mapbiomas = 'projects/mapbiomas-workspace/public/collection7/mapbiomas_collection70_integration_v2'\n",
        "mapbiomas = ee.Image(mapbiomas)\n",
        "print(mapbiomas)"
      ],
      "metadata": {
        "colab": {
          "base_uri": "https://localhost:8080/"
        },
        "id": "JM8w6Q8UuVoP",
        "outputId": "be371bde-8f61-4610-f5c9-11cb077b7b54"
      },
      "execution_count": null,
      "outputs": [
        {
          "output_type": "stream",
          "name": "stdout",
          "text": [
            "ee.Image({\n",
            "  \"functionInvocationValue\": {\n",
            "    \"functionName\": \"Image.load\",\n",
            "    \"arguments\": {\n",
            "      \"id\": {\n",
            "        \"constantValue\": \"projects/mapbiomas-workspace/public/collection7/mapbiomas_collection70_integration_v2\"\n",
            "      }\n",
            "    }\n",
            "  }\n",
            "})\n"
          ]
        }
      ]
    },
    {
      "cell_type": "code",
      "source": [
        "from ee.image import Image\n",
        "##Selecione a coleção que deseja\n",
        "lulc_2021 = mapbiomas.select('classification_2021')\n",
        "Image(lulc_2021)"
      ],
      "metadata": {
        "colab": {
          "base_uri": "https://localhost:8080/"
        },
        "id": "d2z2BmPfGnag",
        "outputId": "4366a666-0724-47b9-f5c0-3bd87b2634b8"
      },
      "execution_count": null,
      "outputs": [
        {
          "output_type": "execute_result",
          "data": {
            "text/plain": [
              "<ee.image.Image at 0x7ff167ef1c10>"
            ]
          },
          "metadata": {},
          "execution_count": 26
        }
      ]
    }
  ]
}